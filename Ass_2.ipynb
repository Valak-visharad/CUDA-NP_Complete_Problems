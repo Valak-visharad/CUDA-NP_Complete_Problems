{
 "cells": [
  {
   "cell_type": "code",
   "execution_count": 1,
   "metadata": {
    "collapsed": true
   },
   "outputs": [],
   "source": [
    "import numpy as np\n",
    "from numba import cuda"
   ]
  },
  {
   "cell_type": "code",
   "execution_count": 2,
   "metadata": {},
   "outputs": [
    {
     "name": "stdout",
     "output_type": "stream",
     "text": [
      "[612 440 591 ... 455  29 353]\n"
     ]
    }
   ],
   "source": [
    "#INITIALIZER\n",
    "n = 2048 #total elements in an integer array\n",
    "\n",
    "a = range(1000)\n",
    "original_array = np.random.choice(a, n).astype('int32')\n",
    "\n",
    "print(original_array)"
   ]
  },
  {
   "cell_type": "code",
   "execution_count": 3,
   "metadata": {
    "collapsed": true
   },
   "outputs": [],
   "source": [
    "threads_per_block = 64\n",
    "blocks = 256\n",
    "\n",
    "res = cuda.to_device(np.array([original_array[0], original_array[0]], dtype = np.int32))\n",
    "arr = cuda.to_device(original_array)"
   ]
  },
  {
   "cell_type": "code",
   "execution_count": 4,
   "metadata": {
    "collapsed": true
   },
   "outputs": [],
   "source": [
    "def cpu_func_(arr, n):\n",
    "    sol = [arr[0], arr[0]]\n",
    "    for i in range(n):\n",
    "        if (sol[1] > arr[i]): #sol[1] is to hold min\n",
    "            sol[1] = arr[i]\n",
    "        elif(sol[0] < arr[i]): #sol[0] is to hold max\n",
    "            sol[0] = arr[i]\n",
    "    return [sol[0], sol[1]]"
   ]
  },
  {
   "cell_type": "code",
   "execution_count": 5,
   "metadata": {
    "collapsed": true
   },
   "outputs": [],
   "source": [
    "@cuda.jit\n",
    "def gpu_func_(sol, arr, n):\n",
    "    i = cuda.grid(1)\n",
    "    stride = cuda.gridsize(1)\n",
    "    for i in range(i, n, stride):\n",
    "        cuda.atomic.max(sol, 0, arr[i])\n",
    "        cuda.atomic.min(sol, 1, arr[i])"
   ]
  },
  {
   "cell_type": "code",
   "execution_count": 6,
   "metadata": {
    "collapsed": true
   },
   "outputs": [],
   "source": [
    "max1_, min1_ = cpu_func_(original_array, len(original_array))\n",
    "\n",
    "gpu_func_[blocks, threads_per_block](res, arr, len(original_array))\n",
    "cuda.synchronize()\n",
    "\n",
    "max2_ = res[0]\n",
    "min2_ = res[1]"
   ]
  },
  {
   "cell_type": "markdown",
   "metadata": {},
   "source": [
    "# FOR CPU"
   ]
  },
  {
   "cell_type": "code",
   "execution_count": 7,
   "metadata": {},
   "outputs": [
    {
     "name": "stdout",
     "output_type": "stream",
     "text": [
      "527 µs ± 323 ns per loop (mean ± std. dev. of 7 runs, 1000 loops each)\n"
     ]
    }
   ],
   "source": [
    "%timeit cpu_func_(original_array, len(original_array))"
   ]
  },
  {
   "cell_type": "markdown",
   "metadata": {},
   "source": [
    "# FOR GPU"
   ]
  },
  {
   "cell_type": "code",
   "execution_count": 8,
   "metadata": {},
   "outputs": [
    {
     "name": "stdout",
     "output_type": "stream",
     "text": [
      "134 µs ± 58.7 ns per loop (mean ± std. dev. of 7 runs, 10000 loops each)\n"
     ]
    }
   ],
   "source": [
    "%timeit gpu_func_[blocks, threads_per_block](res, arr, len(original_array))"
   ]
  },
  {
   "cell_type": "markdown",
   "metadata": {},
   "source": [
    "# COMPARING RESULTS"
   ]
  },
  {
   "cell_type": "code",
   "execution_count": 9,
   "metadata": {},
   "outputs": [
    {
     "data": {
      "text/plain": [
       "True"
      ]
     },
     "execution_count": 9,
     "metadata": {},
     "output_type": "execute_result"
    }
   ],
   "source": [
    "max2_ == max1_"
   ]
  },
  {
   "cell_type": "code",
   "execution_count": 10,
   "metadata": {},
   "outputs": [
    {
     "data": {
      "text/plain": [
       "True"
      ]
     },
     "execution_count": 10,
     "metadata": {},
     "output_type": "execute_result"
    }
   ],
   "source": [
    "min2_ == min1_"
   ]
  },
  {
   "cell_type": "code",
   "execution_count": 11,
   "metadata": {},
   "outputs": [
    {
     "name": "stdout",
     "output_type": "stream",
     "text": [
      "MAXIMUM =  999 999\n",
      "MINIMUM =  0 0\n"
     ]
    }
   ],
   "source": [
    "print(\"MAXIMUM = \", max1_, max2_)\n",
    "print(\"MINIMUM = \", min1_, min2_)"
   ]
  }
 ],
 "metadata": {
  "kernelspec": {
   "display_name": "Python 3",
   "language": "python",
   "name": "python3"
  },
  "language_info": {
   "codemirror_mode": {
    "name": "ipython",
    "version": 3
   },
   "file_extension": ".py",
   "mimetype": "text/x-python",
   "name": "python",
   "nbconvert_exporter": "python",
   "pygments_lexer": "ipython3",
   "version": "3.6.10"
  }
 },
 "nbformat": 4,
 "nbformat_minor": 2
}
