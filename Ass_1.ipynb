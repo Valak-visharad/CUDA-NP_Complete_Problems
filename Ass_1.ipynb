{
 "cells": [
  {
   "cell_type": "code",
   "execution_count": 2,
   "metadata": {
    "collapsed": true
   },
   "outputs": [],
   "source": [
    "import numpy as np\n",
    "from numba import cuda"
   ]
  },
  {
   "cell_type": "code",
   "execution_count": 4,
   "metadata": {},
   "outputs": [
    {
     "name": "stdout",
     "output_type": "stream",
     "text": [
      "range(0, 2048) 2048\n",
      "[0 0 0 ... 0 0 0] 2048\n",
      "[0 0 0 ... 0 0 0] 2048\n"
     ]
    }
   ],
   "source": [
    "#INITIALIZER\n",
    "n = 2048 #total elements in an integer array\n",
    "\n",
    "a = range(n)\n",
    "#x_array = np.random.choice(a, n).astype('int32')\n",
    "x_array = range(n)\n",
    "\n",
    "cpu_y_array = np.zeros_like(x_array)\n",
    "gpu_x_array = cuda.to_device(x_array)\n",
    "gpu_y_array = cuda.to_device(np.zeros_like(x_array))\n",
    "\n",
    "print(x_array, len(x_array))\n",
    "print(cpu_y_array, len(cpu_y_array))\n",
    "print(gpu_y_array.copy_to_host(), len(gpu_y_array))"
   ]
  },
  {
   "cell_type": "code",
   "execution_count": 5,
   "metadata": {
    "collapsed": true
   },
   "outputs": [],
   "source": [
    "threads_per_block = 64\n",
    "blocks = int(n / 64)"
   ]
  },
  {
   "cell_type": "code",
   "execution_count": 6,
   "metadata": {
    "collapsed": true
   },
   "outputs": [],
   "source": [
    "def cpu_func_(x_arr, y_arr, n):\n",
    "    for i in range(n):\n",
    "        a = 0\n",
    "        for j in range(i + 1):\n",
    "            a += x_arr[j]\n",
    "        y_arr[i] = a"
   ]
  },
  {
   "cell_type": "code",
   "execution_count": 7,
   "metadata": {
    "collapsed": true
   },
   "outputs": [],
   "source": [
    "@cuda.jit\n",
    "def gpu_func_(sol, arr):\n",
    "    idx = cuda.grid(1)\n",
    "    print(idx)\n",
    "    a = 0\n",
    "    if idx <= len(arr):\n",
    "        for i in range(idx + 1):\n",
    "            print(i)\n",
    "            a += arr[i]\n",
    "    cuda.atomic.add(sol, idx, a)"
   ]
  },
  {
   "cell_type": "code",
   "execution_count": 8,
   "metadata": {
    "collapsed": true
   },
   "outputs": [],
   "source": [
    "cpu_func_(x_array, cpu_y_array, n)\n",
    "\n",
    "gpu_func_[blocks, threads_per_block](gpu_y_array, gpu_x_array)\n",
    "cuda.synchronize()"
   ]
  },
  {
   "cell_type": "markdown",
   "metadata": {},
   "source": [
    "# FOR CPU"
   ]
  },
  {
   "cell_type": "code",
   "execution_count": null,
   "metadata": {},
   "outputs": [],
   "source": [
    "%timeit cpu_func_(x_array, cpu_y_array, n)"
   ]
  },
  {
   "cell_type": "markdown",
   "metadata": {},
   "source": [
    "# FOR GPU"
   ]
  },
  {
   "cell_type": "code",
   "execution_count": null,
   "metadata": {},
   "outputs": [],
   "source": [
    "%timeit gpu_func_[blocks, threads_per_block](gpu_y_array, gpu_x_array)"
   ]
  },
  {
   "cell_type": "markdown",
   "metadata": {},
   "source": [
    "# COMPARING RESULTS"
   ]
  },
  {
   "cell_type": "code",
   "execution_count": null,
   "metadata": {
    "collapsed": true
   },
   "outputs": [],
   "source": [
    "cpu_y_array == gpu_y_array"
   ]
  },
  {
   "cell_type": "code",
   "execution_count": null,
   "metadata": {
    "collapsed": true
   },
   "outputs": [],
   "source": [
    "print(\"cpu y array = \", cpu_y_array)\n",
    "print(\"gpu_y_array = \", gpu_y_array.copy_to_host())"
   ]
  },
  {
   "cell_type": "code",
   "execution_count": null,
   "metadata": {
    "collapsed": true
   },
   "outputs": [],
   "source": [
    "for i in gpu_y_array.copy_to_host():\n",
    "    print(i)"
   ]
  }
 ],
 "metadata": {
  "kernelspec": {
   "display_name": "Python 3",
   "language": "python",
   "name": "python3"
  },
  "language_info": {
   "codemirror_mode": {
    "name": "ipython",
    "version": 3
   },
   "file_extension": ".py",
   "mimetype": "text/x-python",
   "name": "python",
   "nbconvert_exporter": "python",
   "pygments_lexer": "ipython3",
   "version": "3.6.10"
  }
 },
 "nbformat": 4,
 "nbformat_minor": 2
}
