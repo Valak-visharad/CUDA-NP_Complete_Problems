{
 "cells": [
  {
   "cell_type": "code",
   "execution_count": 23,
   "metadata": {
    "collapsed": true
   },
   "outputs": [],
   "source": [
    "import numpy as np\n",
    "from numba import cuda"
   ]
  },
  {
   "cell_type": "code",
   "execution_count": 24,
   "metadata": {},
   "outputs": [
    {
     "name": "stdout",
     "output_type": "stream",
     "text": [
      "[695 169 204 ... 200 514  18]\n"
     ]
    }
   ],
   "source": [
    "#INITIALIZER\n",
    "n = 40006 #total elements in an integer array\n",
    "\n",
    "a = range(1000)\n",
    "original_array = np.random.choice(a, n).astype('int32')\n",
    "\n",
    "print(original_array)"
   ]
  },
  {
   "cell_type": "code",
   "execution_count": 25,
   "metadata": {
    "collapsed": true
   },
   "outputs": [],
   "source": [
    "threads_per_block = 64\n",
    "blocks = 10\n",
    "\n",
    "res = cuda.to_device(np.array([original_array[0], original_array[0]], dtype = np.int32))\n",
    "arr = cuda.to_device(original_array)"
   ]
  },
  {
   "cell_type": "code",
   "execution_count": 26,
   "metadata": {
    "collapsed": true
   },
   "outputs": [],
   "source": [
    "def cpu_func_(arr, n):\n",
    "    min = arr[1]\n",
    "    max = arr[0]\n",
    "    for i in range(n):\n",
    "        if (arr[i] < min): #sol[1] is to hold min\n",
    "            min = arr[i]\n",
    "        elif(arr[i] > max): #sol[0] is to hold max\n",
    "            max = arr[i]\n",
    "    return [max, min]"
   ]
  },
  {
   "cell_type": "code",
   "execution_count": 27,
   "metadata": {
    "collapsed": true
   },
   "outputs": [],
   "source": [
    "@cuda.jit\n",
    "def gpu_func_(sol, arr, n):\n",
    "    idx = cuda.grid(1)\n",
    "    stride = cuda.gridsize(1)\n",
    "    min = arr[idx]\n",
    "    max = arr[idx]\n",
    "    for i in range(idx, n, stride):\n",
    "        if (arr[i] < min): #sol[1] is to hold min\n",
    "            min = arr[i]\n",
    "        elif(arr[i] > max): #sol[0] is to hold max\n",
    "            max = arr[i]\n",
    "    cuda.atomic.max(sol, 0, max)\n",
    "    cuda.atomic.min(sol, 1, min)"
   ]
  },
  {
   "cell_type": "code",
   "execution_count": 28,
   "metadata": {
    "collapsed": true
   },
   "outputs": [],
   "source": [
    "max1_, min1_ = cpu_func_(original_array, len(original_array))\n",
    "\n",
    "gpu_func_[blocks, threads_per_block](res, arr, len(original_array))\n",
    "cuda.synchronize()\n",
    "\n",
    "max2_ = res[0]\n",
    "min2_ = res[1]"
   ]
  },
  {
   "cell_type": "markdown",
   "metadata": {},
   "source": [
    "# FOR CPU"
   ]
  },
  {
   "cell_type": "code",
   "execution_count": 29,
   "metadata": {},
   "outputs": [
    {
     "name": "stdout",
     "output_type": "stream",
     "text": [
      "8.96 ms ± 52.5 µs per loop (mean ± std. dev. of 7 runs, 100 loops each)\n"
     ]
    }
   ],
   "source": [
    "%timeit cpu_func_(original_array, len(original_array))"
   ]
  },
  {
   "cell_type": "markdown",
   "metadata": {},
   "source": [
    "# FOR GPU"
   ]
  },
  {
   "cell_type": "code",
   "execution_count": 30,
   "metadata": {},
   "outputs": [
    {
     "name": "stdout",
     "output_type": "stream",
     "text": [
      "133 µs ± 482 ns per loop (mean ± std. dev. of 7 runs, 10000 loops each)\n"
     ]
    }
   ],
   "source": [
    "%timeit gpu_func_[blocks, threads_per_block](res, arr, len(original_array))"
   ]
  },
  {
   "cell_type": "markdown",
   "metadata": {},
   "source": [
    "# COMPARING RESULTS"
   ]
  },
  {
   "cell_type": "code",
   "execution_count": 31,
   "metadata": {},
   "outputs": [
    {
     "data": {
      "text/plain": [
       "True"
      ]
     },
     "execution_count": 31,
     "metadata": {},
     "output_type": "execute_result"
    }
   ],
   "source": [
    "max2_ == max1_"
   ]
  },
  {
   "cell_type": "code",
   "execution_count": 32,
   "metadata": {},
   "outputs": [
    {
     "data": {
      "text/plain": [
       "True"
      ]
     },
     "execution_count": 32,
     "metadata": {},
     "output_type": "execute_result"
    }
   ],
   "source": [
    "min2_ == min1_"
   ]
  },
  {
   "cell_type": "code",
   "execution_count": 33,
   "metadata": {},
   "outputs": [
    {
     "name": "stdout",
     "output_type": "stream",
     "text": [
      "MAXIMUM =  999 999\n",
      "MINIMUM =  0 0\n"
     ]
    }
   ],
   "source": [
    "print(\"MAXIMUM = \", max1_, max2_)\n",
    "print(\"MINIMUM = \", min1_, min2_)"
   ]
  }
 ],
 "metadata": {
  "kernelspec": {
   "display_name": "Python 3",
   "language": "python",
   "name": "python3"
  },
  "language_info": {
   "codemirror_mode": {
    "name": "ipython",
    "version": 3
   },
   "file_extension": ".py",
   "mimetype": "text/x-python",
   "name": "python",
   "nbconvert_exporter": "python",
   "pygments_lexer": "ipython3",
   "version": "3.6.10"
  }
 },
 "nbformat": 4,
 "nbformat_minor": 2
}
